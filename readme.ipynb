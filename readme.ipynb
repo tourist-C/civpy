{
 "cells": [
  {
   "cell_type": "markdown",
   "metadata": {},
   "source": [
    "# WHY?"
   ]
  },
  {
   "cell_type": "markdown",
   "metadata": {},
   "source": [
    "- I can't find any civil engineering library...\n",
    "- Build a quick and cheap demo to see how it works\n",
    "- Automate Automate Automate Automate Automate Automate Automate\n",
    "- Optimize material usage"
   ]
  },
  {
   "cell_type": "markdown",
   "metadata": {},
   "source": [
    "Date: 20190412\n",
    "\n",
    "Author: Curtis\n",
    "\n",
    "Version: 0.1"
   ]
  },
  {
   "cell_type": "markdown",
   "metadata": {},
   "source": [
    "# FEATURES\n",
    "-  class oriented\n",
    "-  basic geometry input\n",
    "-  basic loading input\n",
    "-  Code to be packaged for portability\n",
    "\n",
    "## TODO\n",
    "- SFD, BMD, deflection\n",
    "- columns\n",
    "- frames\n",
    "- conenctivity\n",
    "- section capacity check\n",
    "- load factors (euro code?)\n",
    "- load as a class, not as a dict\n",
    "- visualize"
   ]
  },
  {
   "cell_type": "markdown",
   "metadata": {},
   "source": [
    "#  INPUT:\n",
    "-  P,L\n",
    "\n",
    "# OUTPUT:\n",
    "-  A,B, any point at X\n",
    "-  reactions\n",
    "-  shear\n",
    "-  bending"
   ]
  },
  {
   "cell_type": "code",
   "execution_count": 2,
   "metadata": {},
   "outputs": [
    {
     "name": "stdout",
     "output_type": "stream",
     "text": [
      "\n",
      "        All units in SI\n",
      "        Load: kN\n",
      "        Length: meter\n"
     ]
    }
   ],
   "source": [
    "from civpy import Beam\n",
    "\n",
    "B1 = Beam.Beam_Simple('B1',20)\n",
    "B1.show_units()"
   ]
  },
  {
   "cell_type": "code",
   "execution_count": 6,
   "metadata": {},
   "outputs": [
    {
     "name": "stdout",
     "output_type": "stream",
     "text": [
      "4800.0 1600.0\n"
     ]
    }
   ],
   "source": [
    "B1.add_point_load(6400,15)\n",
    "B1.add_point_load(3200,4)\n",
    "\n",
    "# quick check internal forces of 1 point load\n",
    "B1.cal_reaction(B1.loads[0])"
   ]
  },
  {
   "cell_type": "code",
   "execution_count": 7,
   "metadata": {},
   "outputs": [
    {
     "data": {
      "text/plain": [
       "{'name': 'B1',\n",
       " 'L': 20,\n",
       " 'loads': [{'load_type': 'point', 'load_value': 6400, 'distance_from_a': 15},\n",
       "  {'load_type': 'point', 'load_value': 3200, 'distance_from_a': 4}],\n",
       " 'SFD': [],\n",
       " 'BMD': [],\n",
       " 'R_a': 5440.0,\n",
       " 'R_b': 4160.0,\n",
       " 'reactions': (5440.0, 4160.0),\n",
       " 'P': 3200,\n",
       " 'a': 4}"
      ]
     },
     "execution_count": 7,
     "metadata": {},
     "output_type": "execute_result"
    }
   ],
   "source": [
    "B1.cal_all_reactions()\n",
    "B1.__dict__"
   ]
  },
  {
   "cell_type": "markdown",
   "metadata": {},
   "source": [
    "# Rewrite this in python"
   ]
  },
  {
   "cell_type": "markdown",
   "metadata": {},
   "source": [
    "### a typical day of a small civil engineering potato\n",
    "\n",
    "1.  read drawing\n",
    "-  input geometry\n",
    "-  calculate reaction\n",
    "-  calculate SFD,BMD\n",
    "-  section capacity check\n",
    "-  repeat"
   ]
  },
  {
   "cell_type": "markdown",
   "metadata": {},
   "source": [
    "![beam](https://structx.com/Beam_Pictures/008-Simple_Beam_Formulas_PL_Resultant_Shear_Moment_Deflection.png)"
   ]
  },
  {
   "cell_type": "markdown",
   "metadata": {},
   "source": [
    "https://structx.com/Beam_Formulas_008.html"
   ]
  },
  {
   "cell_type": "markdown",
   "metadata": {},
   "source": [
    "-   FBD = free body diagram\n",
    "-   SFD = shear force diagram\n",
    "-   BMD = bending moment diagram\n",
    "\n",
    "-   a & b = distance to point load, in or m\n",
    "-   E = modulus of elasticity, psi or MPa\n",
    "-   I = second moment of area, in4 or m4\n",
    "-   L = span length under consideration, in or m\n",
    "-   M = maximum bending moment, lbf.in or kNm\n",
    "-   P = total concentrated load, lbf or kN\n",
    "-   R = reaction load at bearing point, lbf or kN\n",
    "-   V = maximum shear force, lbf or kN\n",
    "-   ∆ = deflection or deformation, in or m\n",
    "-   x = horizontal distance from reaction point, in or m"
   ]
  }
 ],
 "metadata": {
  "kernelspec": {
   "display_name": "Python 3",
   "language": "python",
   "name": "python3"
  },
  "language_info": {
   "codemirror_mode": {
    "name": "ipython",
    "version": 3
   },
   "file_extension": ".py",
   "mimetype": "text/x-python",
   "name": "python",
   "nbconvert_exporter": "python",
   "pygments_lexer": "ipython3",
   "version": "3.6.8"
  }
 },
 "nbformat": 4,
 "nbformat_minor": 2
}
